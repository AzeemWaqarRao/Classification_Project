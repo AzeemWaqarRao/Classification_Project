{
 "cells": [
  {
   "cell_type": "markdown",
   "id": "0537bf94",
   "metadata": {},
   "source": [
    "# Importing Libraries\n",
    "Here we will import all the required libraries for this project."
   ]
  },
  {
   "cell_type": "code",
   "execution_count": 1,
   "id": "80cb6923",
   "metadata": {},
   "outputs": [],
   "source": [
    "import pandas as pd\n",
    "from sklearn.model_selection import train_test_split\n",
    "from sklearn.preprocessing import LabelEncoder\n",
    "from sklearn.ensemble import RandomForestClassifier\n",
    "from sklearn.metrics import accuracy_score"
   ]
  },
  {
   "cell_type": "markdown",
   "id": "a7efff6d",
   "metadata": {},
   "source": [
    "# Data\n",
    "Taking self generated data for demonstration purposes.\n",
    "We will convert this data to python dataframes.\n"
   ]
  },
  {
   "cell_type": "code",
   "execution_count": 11,
   "id": "2e238a91",
   "metadata": {},
   "outputs": [],
   "source": [
    "data = {\n",
    "    'petal_length': [1.4, 1.3, 1.5, 4.7, 4.5, 4.9, 5.1],\n",
    "    'petal_width': [0.2, 0.3, 0.2, 1.4, 1.5, 1.3, 1.2],\n",
    "    'species': ['setosa', 'setosa', 'setosa', 'versicolor', 'versicolor', 'versicolor', 'virginica']\n",
    "}"
   ]
  },
  {
   "cell_type": "code",
   "execution_count": 12,
   "id": "360e8bd4",
   "metadata": {},
   "outputs": [],
   "source": [
    "# Create a DataFrame\n",
    "df = pd.DataFrame(data)"
   ]
  },
  {
   "cell_type": "code",
   "execution_count": 13,
   "id": "5d459bb6",
   "metadata": {},
   "outputs": [
    {
     "name": "stdout",
     "output_type": "stream",
     "text": [
      "   petal_length  petal_width     species\n",
      "0           1.4          0.2      setosa\n",
      "1           1.3          0.3      setosa\n",
      "2           1.5          0.2      setosa\n",
      "3           4.7          1.4  versicolor\n",
      "4           4.5          1.5  versicolor\n",
      "5           4.9          1.3  versicolor\n",
      "6           5.1          1.2   virginica\n"
     ]
    }
   ],
   "source": [
    "print(df)"
   ]
  },
  {
   "cell_type": "markdown",
   "id": "2d84d5a0",
   "metadata": {},
   "source": [
    "# Label Encoding\n",
    "In this data, the column 'species' is a categorical column. We will encode it to integer values."
   ]
  },
  {
   "cell_type": "code",
   "execution_count": 14,
   "id": "2ea65fd5",
   "metadata": {},
   "outputs": [],
   "source": [
    "label_encoder = LabelEncoder()\n",
    "df['species_encoded'] = label_encoder.fit_transform(df['species'])"
   ]
  },
  {
   "cell_type": "code",
   "execution_count": 15,
   "id": "f7110f4c",
   "metadata": {},
   "outputs": [
    {
     "data": {
      "text/html": [
       "<div>\n",
       "<style scoped>\n",
       "    .dataframe tbody tr th:only-of-type {\n",
       "        vertical-align: middle;\n",
       "    }\n",
       "\n",
       "    .dataframe tbody tr th {\n",
       "        vertical-align: top;\n",
       "    }\n",
       "\n",
       "    .dataframe thead th {\n",
       "        text-align: right;\n",
       "    }\n",
       "</style>\n",
       "<table border=\"1\" class=\"dataframe\">\n",
       "  <thead>\n",
       "    <tr style=\"text-align: right;\">\n",
       "      <th></th>\n",
       "      <th>petal_length</th>\n",
       "      <th>petal_width</th>\n",
       "      <th>species</th>\n",
       "      <th>species_encoded</th>\n",
       "    </tr>\n",
       "  </thead>\n",
       "  <tbody>\n",
       "    <tr>\n",
       "      <th>0</th>\n",
       "      <td>1.4</td>\n",
       "      <td>0.2</td>\n",
       "      <td>setosa</td>\n",
       "      <td>0</td>\n",
       "    </tr>\n",
       "    <tr>\n",
       "      <th>1</th>\n",
       "      <td>1.3</td>\n",
       "      <td>0.3</td>\n",
       "      <td>setosa</td>\n",
       "      <td>0</td>\n",
       "    </tr>\n",
       "    <tr>\n",
       "      <th>2</th>\n",
       "      <td>1.5</td>\n",
       "      <td>0.2</td>\n",
       "      <td>setosa</td>\n",
       "      <td>0</td>\n",
       "    </tr>\n",
       "    <tr>\n",
       "      <th>3</th>\n",
       "      <td>4.7</td>\n",
       "      <td>1.4</td>\n",
       "      <td>versicolor</td>\n",
       "      <td>1</td>\n",
       "    </tr>\n",
       "    <tr>\n",
       "      <th>4</th>\n",
       "      <td>4.5</td>\n",
       "      <td>1.5</td>\n",
       "      <td>versicolor</td>\n",
       "      <td>1</td>\n",
       "    </tr>\n",
       "    <tr>\n",
       "      <th>5</th>\n",
       "      <td>4.9</td>\n",
       "      <td>1.3</td>\n",
       "      <td>versicolor</td>\n",
       "      <td>1</td>\n",
       "    </tr>\n",
       "    <tr>\n",
       "      <th>6</th>\n",
       "      <td>5.1</td>\n",
       "      <td>1.2</td>\n",
       "      <td>virginica</td>\n",
       "      <td>2</td>\n",
       "    </tr>\n",
       "  </tbody>\n",
       "</table>\n",
       "</div>"
      ],
      "text/plain": [
       "   petal_length  petal_width     species  species_encoded\n",
       "0           1.4          0.2      setosa                0\n",
       "1           1.3          0.3      setosa                0\n",
       "2           1.5          0.2      setosa                0\n",
       "3           4.7          1.4  versicolor                1\n",
       "4           4.5          1.5  versicolor                1\n",
       "5           4.9          1.3  versicolor                1\n",
       "6           5.1          1.2   virginica                2"
      ]
     },
     "execution_count": 15,
     "metadata": {},
     "output_type": "execute_result"
    }
   ],
   "source": [
    "df"
   ]
  },
  {
   "cell_type": "markdown",
   "id": "d648126d",
   "metadata": {},
   "source": [
    "# Dependent & Independent Features\n",
    "We will split the data to dependent and independent features, X and y respectively."
   ]
  },
  {
   "cell_type": "code",
   "execution_count": 16,
   "id": "49d679fd",
   "metadata": {},
   "outputs": [],
   "source": [
    "X = df[['petal_length', 'petal_width']]  # Input features\n",
    "y = df['species_encoded']  # Target variable"
   ]
  },
  {
   "cell_type": "markdown",
   "id": "57ef81e1",
   "metadata": {},
   "source": [
    "# Train Test Split\n",
    "Splitting the dataset for training and testing (80% - train, 20% - test)"
   ]
  },
  {
   "cell_type": "code",
   "execution_count": 17,
   "id": "77ba86dd",
   "metadata": {},
   "outputs": [],
   "source": [
    "# Perform train-test split\n",
    "X_train, X_test, y_train, y_test = train_test_split(X, y, test_size=0.2, random_state=42)"
   ]
  },
  {
   "cell_type": "markdown",
   "id": "1694d14a",
   "metadata": {},
   "source": [
    "   # Model Training\n",
    "   Here we will initialize the model and train it using fit() method."
   ]
  },
  {
   "cell_type": "code",
   "execution_count": 18,
   "id": "cbb86488",
   "metadata": {},
   "outputs": [
    {
     "data": {
      "text/plain": [
       "RandomForestClassifier(random_state=42)"
      ]
     },
     "execution_count": 18,
     "metadata": {},
     "output_type": "execute_result"
    }
   ],
   "source": [
    "# Model training (using Random Forest Classifier)\n",
    "model = RandomForestClassifier(random_state=42)\n",
    "model.fit(X_train, y_train)"
   ]
  },
  {
   "cell_type": "markdown",
   "id": "e830fb22",
   "metadata": {},
   "source": [
    "# Prediction\n",
    "Taking Predictions from model."
   ]
  },
  {
   "cell_type": "code",
   "execution_count": 19,
   "id": "0b6a9da7",
   "metadata": {},
   "outputs": [],
   "source": [
    "# Predict on the test set\n",
    "y_pred = model.predict(X_test)"
   ]
  },
  {
   "cell_type": "markdown",
   "id": "50267cef",
   "metadata": {},
   "source": [
    "# Model Accuracy \n",
    "Checking accuracy score of the matrix."
   ]
  },
  {
   "cell_type": "code",
   "execution_count": 20,
   "id": "808455be",
   "metadata": {},
   "outputs": [
    {
     "name": "stdout",
     "output_type": "stream",
     "text": [
      "Accuracy: 1.0\n"
     ]
    }
   ],
   "source": [
    "# Calculate accuracy score\n",
    "accuracy = accuracy_score(y_test, y_pred)\n",
    "print(\"Accuracy:\", accuracy)"
   ]
  },
  {
   "cell_type": "code",
   "execution_count": null,
   "id": "338e3ab9",
   "metadata": {},
   "outputs": [],
   "source": []
  }
 ],
 "metadata": {
  "kernelspec": {
   "display_name": "Python 3 (ipykernel)",
   "language": "python",
   "name": "python3"
  },
  "language_info": {
   "codemirror_mode": {
    "name": "ipython",
    "version": 3
   },
   "file_extension": ".py",
   "mimetype": "text/x-python",
   "name": "python",
   "nbconvert_exporter": "python",
   "pygments_lexer": "ipython3",
   "version": "3.7.9"
  }
 },
 "nbformat": 4,
 "nbformat_minor": 5
}
